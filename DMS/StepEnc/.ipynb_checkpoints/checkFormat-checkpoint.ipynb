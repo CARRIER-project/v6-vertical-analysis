{
 "cells": [
  {
   "cell_type": "code",
   "execution_count": 3,
   "metadata": {},
   "outputs": [],
   "source": [
    "import time, json\n",
    "start_time = time.time()\n",
    "import pyreadstat\n",
    "import pandas as pd"
   ]
  },
  {
   "cell_type": "code",
   "execution_count": 27,
   "metadata": {},
   "outputs": [],
   "source": [
    "df = pd.read_csv(\"new_dms_test_enc_2.csv\")\n",
    "PI = ['GBAGeboorteJaar', 'GBAGeboorteMaand', 'GBAGeboorteDag',\n",
    "'GBAGeslacht', 'GBAPostcode', 'GBAHuisnummer', 'GBAToev']"
   ]
  },
  {
   "cell_type": "code",
   "execution_count": 30,
   "metadata": {},
   "outputs": [],
   "source": [
    "df['GBAGeboorteJaar'] = df['GBAGeboorteJaar'].astype(str)\n",
    "# df['GBAGeboorteMaand'] = df.GBAGeboorteJaar.astype(str)\n",
    "# df['GBAGeboorteDag'] = df.GBAGeboorteJaar.astype(str)\n",
    "# df['GBAGeslacht'] = df.GBAGeboorteJaar.astype(str)\n",
    "# df['GBAPostcode'] = df.GBAGeboorteJaar.astype(str)\n",
    "# df['GBAHuisnummer'] = df.GBAGeboorteJaar.astype(str)\n",
    "# df['GBAToev'] = df.GBAGeboorteJaar.astype(str)"
   ]
  },
  {
   "cell_type": "code",
   "execution_count": 32,
   "metadata": {},
   "outputs": [
    {
     "ename": "SyntaxError",
     "evalue": "invalid syntax (<ipython-input-32-e05360e2fa4c>, line 9)",
     "output_type": "error",
     "traceback": [
      "\u001b[0;36m  File \u001b[0;32m\"<ipython-input-32-e05360e2fa4c>\"\u001b[0;36m, line \u001b[0;32m9\u001b[0m\n\u001b[0;31m    df[var] = df[var]astype(str)\u001b[0m\n\u001b[0m                          ^\u001b[0m\n\u001b[0;31mSyntaxError\u001b[0m\u001b[0;31m:\u001b[0m invalid syntax\n"
     ]
    }
   ],
   "source": [
    "standardName = ['GBAGeboorteJaar', 'GBAGeboorteMaand', 'GBAGeboorteDag',\n",
    "'GBAGeslacht', 'GBAPostcode', 'GBAHuisnummer', 'GBAToev']\n",
    "for var in standardName:\n",
    "    if var in PI:\n",
    "        if df[var].isnull().sum() > 0:\n",
    "            print(\"%s has missing values. Linking features cannot have missing values\" %var)\n",
    "            \n",
    "        if var == \"GBAGeboorteJaar\":\n",
    "            df[var] = df[var].astype(str)\n",
    "            for i in range(0, len(df)):\n",
    "                value = df.iloc[i][var]\n",
    "                if type(value) != str:\n",
    "                    print(\"%s type has to be string\" %var)\n",
    "                    if len(value) != 4:\n",
    "                        print(\"%s length has to be 4\" %var)\n",
    "                        \n",
    "        if var == \"GBAGeboorteMaand\":\n",
    "            df[var] = df[var].astype(str)\n",
    "            for i in range(0, len(df)):\n",
    "                value = df.iloc[i][var]\n",
    "                if type(value) != str:\n",
    "                    print(\"%s type has to be string\" %var)\n",
    "                    if len(value) != 4:\n",
    "                        print(\"%s length has to be 2\" %var)\n",
    "                        \n",
    "        if var == \"GBAGeboorteDag\":\n",
    "            df[var] = df[var].astype(str)\n",
    "            for i in range(0, len(df)):\n",
    "                value = df.iloc[i][var]\n",
    "                if type(value) != str:\n",
    "                    print(\"%s type has to be string\" %var)\n",
    "                    if len(value) != 4:\n",
    "                        print(\"%s length has to be 2\" %var)\n",
    "                        \n",
    "        if var == \"GBAGeslacht\":\n",
    "            df[var] = df[var].astype(str)\n",
    "            for i in range(0, len(df)):\n",
    "                value = df.iloc[i][var]\n",
    "                if type(value) != str:\n",
    "                    print(\"%s type has to be string\" %var)\n",
    "                    if value != 1 or value != 2:\n",
    "                        print(\"%s has to be 1 or 2\" %var)\n",
    "                        \n",
    "        if var == \"GBAPostcode\":\n",
    "            df[var] = df[var].astype(str)\n",
    "            for i in range(0, len(df)):\n",
    "                value = df.iloc[i][var]\n",
    "                if type(value) != str:\n",
    "                    print(\"%s type has to be string\" %var)\n",
    "                    if len(value) != 4:\n",
    "                        print(\"%s length has to be 6\" %var)\n",
    "                        \n",
    "        if var == \"GBAHuisnummer\":\n",
    "            df[var] = df[var].astype(str)\n",
    "            for i in range(0, len(df)):\n",
    "                value = df.iloc[i][var]\n",
    "                if type(value) != str:\n",
    "                    print(\"%s type has to be string\" %var)\n",
    "                    if len(value) < 5:\n",
    "                        print(\"%s length has to be less 5\" %var)\n",
    "                        \n",
    "        if var == \"GBAToev\":\n",
    "            df[var] = df[var].astype(str)\n",
    "            for i in range(0, len(df)):\n",
    "                value = df.iloc[i][var]\n",
    "                if type(value) != str:\n",
    "                    print(\"%s type has to be string\" %var)\n",
    "                    if len(value) < 7:\n",
    "                        print(\"%s length has to be less 7\" %var)\n",
    "            \n",
    "    else:\n",
    "        print('Sorry, %s is not in the dataset.' %var)"
   ]
  },
  {
   "cell_type": "code",
   "execution_count": null,
   "metadata": {},
   "outputs": [],
   "source": []
  }
 ],
 "metadata": {
  "kernelspec": {
   "display_name": "Python 3",
   "language": "python",
   "name": "python3"
  },
  "language_info": {
   "codemirror_mode": {
    "name": "ipython",
    "version": 3
   },
   "file_extension": ".py",
   "mimetype": "text/x-python",
   "name": "python",
   "nbconvert_exporter": "python",
   "pygments_lexer": "ipython3",
   "version": "3.6.8"
  }
 },
 "nbformat": 4,
 "nbformat_minor": 2
}
