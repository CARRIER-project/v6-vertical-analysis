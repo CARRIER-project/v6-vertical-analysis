{
 "cells": [
  {
   "cell_type": "code",
   "execution_count": 17,
   "metadata": {},
   "outputs": [],
   "source": [
    "import pandas as pd\n",
    "dms = pd.read_csv(\"20200309_dms.csv\")\n",
    "# dms = dms.drop(['Unnamed: 0', ''], axis=1)\n",
    "col = dms.columns"
   ]
  },
  {
   "cell_type": "code",
   "execution_count": 20,
   "metadata": {},
   "outputs": [],
   "source": [
    "df_new = dms[['GBAGeboorteJaar', 'GBAGeboorteMaand', 'GBAGeboorteDag', 'GBAGeslacht', 'GBAPostcode','GBAHuisnummer', 'GBAToev','VISIT1_DATE']]"
   ]
  },
  {
   "cell_type": "code",
   "execution_count": 21,
   "metadata": {},
   "outputs": [],
   "source": [
    "colNew = ['N_DM_DUR_2', 'N_GTS_WHO', 'N_Diabetes_WHO_2',\n",
    "       'N_DIABETES_2', 'N_T2DM_new_diagn', 'SEX', 'Age', 'N_Education_3cat',\n",
    "       'Employment_status', 'Occupational_category', 'Income_equivalent',\n",
    "       'n_smokingcat4', 'WOZ', 'N_ALCOHOL_CAT', 'NIT_kcal', 'medGRscore_TR',\n",
    "       'height', 'weight', 'bmi', 'N_CVD', 'med_depression', 'PHQ9_depr',\n",
    "       'MINIcurrdepr', 'MINIlifedepr', 'N_HT', 'TOTALPA', 'MVPA',\n",
    "       'MEAN_VALID_MIN_SLEEP_T', 'MEAN_SED_MIN_WAKE_T',\n",
    "       'MEAN_STAND_MIN_WAKE_T', 'MEAN_STEP_MIN_WAKE_T', 'waist', 'hip',\n",
    "       'SF36_Q7', 'SF36_Q10','Mobility_lim']"
   ]
  },
  {
   "cell_type": "code",
   "execution_count": 22,
   "metadata": {},
   "outputs": [
    {
     "name": "stderr",
     "output_type": "stream",
     "text": [
      "/opt/conda/lib/python3.7/site-packages/ipykernel_launcher.py:2: SettingWithCopyWarning: \n",
      "A value is trying to be set on a copy of a slice from a DataFrame.\n",
      "Try using .loc[row_indexer,col_indexer] = value instead\n",
      "\n",
      "See the caveats in the documentation: https://pandas.pydata.org/pandas-docs/stable/user_guide/indexing.html#returning-a-view-versus-a-copy\n",
      "  \n"
     ]
    }
   ],
   "source": [
    "for c in colNew:\n",
    "    df_new[c] = np.random.randint(1, 100, dms.shape[0])"
   ]
  },
  {
   "cell_type": "code",
   "execution_count": 15,
   "metadata": {},
   "outputs": [
    {
     "data": {
      "text/plain": [
       "array([57, 20, 58, ...,  2, 86, 77])"
      ]
     },
     "execution_count": 15,
     "metadata": {},
     "output_type": "execute_result"
    }
   ],
   "source": []
  },
  {
   "cell_type": "code",
   "execution_count": 24,
   "metadata": {},
   "outputs": [],
   "source": [
    "df_new.to_csv('20200312_simu_dms.csv')"
   ]
  },
  {
   "cell_type": "code",
   "execution_count": null,
   "metadata": {},
   "outputs": [],
   "source": []
  }
 ],
 "metadata": {
  "kernelspec": {
   "display_name": "Python 3",
   "language": "python",
   "name": "python3"
  },
  "language_info": {
   "codemirror_mode": {
    "name": "ipython",
    "version": 3
   },
   "file_extension": ".py",
   "mimetype": "text/x-python",
   "name": "python",
   "nbconvert_exporter": "python",
   "pygments_lexer": "ipython3",
   "version": "3.7.6"
  }
 },
 "nbformat": 4,
 "nbformat_minor": 4
}
