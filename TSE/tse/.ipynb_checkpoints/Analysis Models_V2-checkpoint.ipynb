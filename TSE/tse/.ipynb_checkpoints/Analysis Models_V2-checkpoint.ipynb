{
 "cells": [
  {
   "cell_type": "code",
   "execution_count": 3,
   "metadata": {},
   "outputs": [],
   "source": [
    "import pandas as pd\n",
    "import func"
   ]
  },
  {
   "cell_type": "code",
   "execution_count": 18,
   "metadata": {},
   "outputs": [],
   "source": [
    "combined_df = pd.read_csv('actualTestingData.csv')\n",
    "file = 'basic_2011'\n",
    "col_1 = ['N_DM_DUR_2', 'N_GTS_WHO', 'N_Diabetes_WHO_2', 'N_DIABETES_2',\n",
    "       'N_T2DM_new_diagn', 'SEX', 'Age', 'N_Education_3cat',\n",
    "       'Employment_status', 'Occupational_category', 'Income_equivalent',\n",
    "       'n_smokingcat4', 'WOZ', 'N_ALCOHOL_CAT', 'NIT_kcal', 'medGRscore_TR',\n",
    "       'height', 'weight', 'bmi', 'N_BMICAT', 'N_CVD', 'med_depression',\n",
    "       'PHQ9_depr', 'MINIcurrdepr', 'MINIlifedepr', 'N_HT', 'SF36_Q7',\n",
    "       'SF36_Q10', 'TOTALPA', 'MVPA', 'MEAN_VALID_MIN_WAKE_T',\n",
    "       'MEAN_VALID_MIN_SLEEP_T', 'MEAN_SED_MIN_WAKE_T',\n",
    "       'MEAN_STAND_MIN_WAKE_T', 'PROP_STAND_MIN_WAKE_T',\n",
    "       'MEAN_STEP_MIN_WAKE_T', 'waist', 'hip', 'Mobility_lim']\n",
    "col_2 = ['ZVWKOPHOOGFACTOR_2011', 'ZVWKHUISARTS_2011',\n",
    "       'ZVWKFARMACIE_2011', 'ZVWKZIEKENHUIS_2011', 'ZVWKPARAMEDISCH_2011',\n",
    "       'ZVWKHULPMIDDEL_2011', 'ZVWKZIEKENVERVOER_2011', 'ZVWKBUITENLAND_2011',\n",
    "       'ZVWKOVERIG_2011', 'ZVWKEERSTELIJNSPSYCHO_2011', 'ZVWKGGZ_2011']\n",
    "col = col_1+col_2"
   ]
  },
  {
   "cell_type": "code",
   "execution_count": 19,
   "metadata": {},
   "outputs": [],
   "source": [
    "# checkMissing = True\n",
    "# if checkMissing == True:\n",
    "#     func.check_missing(combined_df, col, file)"
   ]
  },
  {
   "cell_type": "code",
   "execution_count": 20,
   "metadata": {},
   "outputs": [
    {
     "name": "stdout",
     "output_type": "stream",
     "text": [
      "************************************************\n",
      "Correlation matrix is done!\n"
     ]
    }
   ],
   "source": [
    "### Function for correlation matrix ###\n",
    "CorrMatrix = True\n",
    "if CorrMatrix == True:\n",
    "    func.corr_Matrix(combined_df[col], file)"
   ]
  },
  {
   "cell_type": "code",
   "execution_count": null,
   "metadata": {},
   "outputs": [],
   "source": [
    "basicInfo = True\n",
    "if basicInfo == True:\n",
    "    func.data_describe(combined_df, col, file)"
   ]
  }
 ],
 "metadata": {
  "kernelspec": {
   "display_name": "Python 3",
   "language": "python",
   "name": "python3"
  },
  "language_info": {
   "codemirror_mode": {
    "name": "ipython",
    "version": 3
   },
   "file_extension": ".py",
   "mimetype": "text/x-python",
   "name": "python",
   "nbconvert_exporter": "python",
   "pygments_lexer": "ipython3",
   "version": "3.6.8"
  }
 },
 "nbformat": 4,
 "nbformat_minor": 2
}
